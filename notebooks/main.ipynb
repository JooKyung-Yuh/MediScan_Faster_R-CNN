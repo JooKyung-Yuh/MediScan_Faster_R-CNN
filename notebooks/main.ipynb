{
 "cells": [
  {
   "cell_type": "markdown",
   "metadata": {},
   "source": [
    "# Faster R-CNN을 이용한 알약 군집 탐지 및 분류"
   ]
  },
  {
   "cell_type": "code",
   "execution_count": 1,
   "metadata": {},
   "outputs": [],
   "source": [
    "## 필요한 라이브러리 임포트\n",
    "import torch\n",
    "import torchvision\n",
    "from torchvision.models.detection import fasterrcnn_resnet50_fpn\n",
    "from torchvision.models.detection.faster_rcnn import FastRCNNPredictor  # 새로 추가된 줄\n",
    "from torchvision.transforms import functional as F\n",
    "import numpy as np\n",
    "import cv2\n",
    "import matplotlib.pyplot as plt\n",
    "from PIL import Image"
   ]
  },
  {
   "cell_type": "code",
   "execution_count": 2,
   "metadata": {},
   "outputs": [],
   "source": [
    "## 데이터셋 클래스 정의\n",
    "class PillDataset(torch.utils.data.Dataset):\n",
    "    def __init__(self, imgs_path, annotations, transforms=None):\n",
    "        self.imgs_path = imgs_path\n",
    "        self.annotations = annotations\n",
    "        self.transforms = transforms\n",
    "        \n",
    "    def __getitem__(self, idx):\n",
    "        # 이미지 로드\n",
    "        img_path = self.imgs_path[idx]\n",
    "        img = Image.open(img_path).convert(\"RGB\")\n",
    "        \n",
    "        # 바운딩 박스와 라벨 정보\n",
    "        boxes = self.annotations[idx]['boxes']\n",
    "        labels = self.annotations[idx]['labels']\n",
    "        \n",
    "        # 텐서로 변환\n",
    "        boxes = torch.as_tensor(boxes, dtype=torch.float32)\n",
    "        labels = torch.as_tensor(labels, dtype=torch.int64)\n",
    "        \n",
    "        target = {}\n",
    "        target[\"boxes\"] = boxes\n",
    "        target[\"labels\"] = labels\n",
    "        \n",
    "        if self.transforms is not None:\n",
    "            img, target = self.transforms(img, target)\n",
    "            \n",
    "        return img, target\n",
    "    \n",
    "    def __len__(self):\n",
    "        return len(self.imgs_path)\n"
   ]
  },
  {
   "cell_type": "code",
   "execution_count": 3,
   "metadata": {},
   "outputs": [],
   "source": [
    "## 모델 정의 및 학습 함수\n",
    "def get_model(num_classes):\n",
    "    model = fasterrcnn_resnet50_fpn(pretrained=True)\n",
    "    in_features = model.roi_heads.box_predictor.cls_score.in_features\n",
    "    model.roi_heads.box_predictor = FastRCNNPredictor(in_features, num_classes)\n",
    "    return model\n",
    "\n",
    "def train_model(model, data_loader, optimizer, num_epochs=10):\n",
    "    device = torch.device('cuda') if torch.cuda.is_available() else torch.device('cpu')\n",
    "    model.to(device)\n",
    "    \n",
    "    for epoch in range(num_epochs):\n",
    "        model.train()\n",
    "        total_loss = 0\n",
    "        \n",
    "        for images, targets in data_loader:\n",
    "            images = list(image.to(device) for image in images)\n",
    "            targets = [{k: v.to(device) for k, v in t.items()} for t in targets]\n",
    "            \n",
    "            loss_dict = model(images, targets)\n",
    "            losses = sum(loss for loss in loss_dict.values())\n",
    "            \n",
    "            optimizer.zero_grad()\n",
    "            losses.backward()\n",
    "            optimizer.step()\n",
    "            \n",
    "            total_loss += losses.item()\n",
    "            \n",
    "        print(f'Epoch {epoch+1}/{num_epochs}, Loss: {total_loss/len(data_loader)}')\n"
   ]
  },
  {
   "cell_type": "code",
   "execution_count": 4,
   "metadata": {},
   "outputs": [],
   "source": [
    "## 추론 및 시각화 함수\n",
    "def visualize_prediction(model, image_path, threshold=0.5):\n",
    "    device = torch.device('cuda') if torch.cuda.is_available() else torch.device('cpu')\n",
    "    model.to(device)\n",
    "    model.eval()\n",
    "    \n",
    "    img = Image.open(image_path).convert(\"RGB\")\n",
    "    transform = transforms.ToTensor()\n",
    "    img_tensor = transform(img).unsqueeze(0).to(device)\n",
    "    \n",
    "    with torch.no_grad():\n",
    "        prediction = model(img_tensor)\n",
    "        \n",
    "    img_np = np.array(img)\n",
    "    \n",
    "    for box, score, label in zip(prediction[0]['boxes'], prediction[0]['scores'], prediction[0]['labels']):\n",
    "        if score > threshold:\n",
    "            box = box.cpu().numpy()\n",
    "            cv2.rectangle(img_np, \n",
    "                        (int(box[0]), int(box[1])), \n",
    "                        (int(box[2]), int(box[3])), \n",
    "                        (255, 0, 0), 2)\n",
    "            \n",
    "    plt.figure(figsize=(12, 8))\n",
    "    plt.imshow(img_np)\n",
    "    plt.axis('off')\n",
    "    plt.show()\n"
   ]
  },
  {
   "cell_type": "code",
   "execution_count": 5,
   "metadata": {},
   "outputs": [
    {
     "name": "stderr",
     "output_type": "stream",
     "text": [
      "/Users/yuhjookyung/.pyenv/versions/3.10.13/lib/python3.10/site-packages/torchvision/models/_utils.py:208: UserWarning: The parameter 'pretrained' is deprecated since 0.13 and may be removed in the future, please use 'weights' instead.\n",
      "  warnings.warn(\n",
      "/Users/yuhjookyung/.pyenv/versions/3.10.13/lib/python3.10/site-packages/torchvision/models/_utils.py:223: UserWarning: Arguments other than a weight enum or `None` for 'weights' are deprecated since 0.13 and may be removed in the future. The current behavior is equivalent to passing `weights=FasterRCNN_ResNet50_FPN_Weights.COCO_V1`. You can also use `weights=FasterRCNN_ResNet50_FPN_Weights.DEFAULT` to get the most up-to-date weights.\n",
      "  warnings.warn(msg)\n"
     ]
    }
   ],
   "source": [
    "## 메인 실행 코드\n",
    "if __name__ == \"__main__\":\n",
    "    # 데이터 경로 및 설정\n",
    "    num_classes = 2  # 배경 + 알약 클래스\n",
    "    \n",
    "    # 모델 초기화\n",
    "    model = get_model(num_classes)\n",
    "    \n",
    "    # 옵티마이저 설정\n",
    "    params = [p for p in model.parameters() if p.requires_grad]\n",
    "    optimizer = torch.optim.SGD(params, lr=0.005, momentum=0.9, weight_decay=0.0005)\n",
    "    \n",
    "    # 데이터셋 및 데이터로더 설정\n",
    "    # TODO: 실제 데이터셋 경로와 어노테이션 추가\n",
    "    \n",
    "    # 모델 학습\n",
    "    # train_model(model, train_dataloader, optimizer)\n",
    "    \n",
    "    # 결과 시각화\n",
    "    # visualize_prediction(model, \"test_image.jpg\")"
   ]
  }
 ],
 "metadata": {
  "kernelspec": {
   "display_name": "pill_detection_env",
   "language": "python",
   "name": "pill_detection_env"
  },
  "language_info": {
   "codemirror_mode": {
    "name": "ipython",
    "version": 3
   },
   "file_extension": ".py",
   "mimetype": "text/x-python",
   "name": "python",
   "nbconvert_exporter": "python",
   "pygments_lexer": "ipython3",
   "version": "3.10.13"
  }
 },
 "nbformat": 4,
 "nbformat_minor": 4
}
